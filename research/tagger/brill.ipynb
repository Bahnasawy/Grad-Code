{
 "cells": [
  {
   "cell_type": "code",
   "execution_count": 3,
   "metadata": {},
   "outputs": [],
   "source": [
    "from nltk.tag import brill, brill_trainer \n",
    "from nltk.tag import brill, brill_trainer \n",
    "from nltk.tag import DefaultTagger \n",
    "from nltk.corpus import treebank"
   ]
  },
  {
   "cell_type": "code",
   "execution_count": 4,
   "metadata": {},
   "outputs": [],
   "source": [
    "def train_brill_tagger(initial_tagger, train_sents, **kwargs): \n",
    "    templates = [ \n",
    "            brill.Template(brill.Pos([-1])), \n",
    "            brill.Template(brill.Pos([1])), \n",
    "            brill.Template(brill.Pos([-2])), \n",
    "            brill.Template(brill.Pos([2])), \n",
    "            brill.Template(brill.Pos([-2, -1])), \n",
    "            brill.Template(brill.Pos([1, 2])), \n",
    "            brill.Template(brill.Pos([-3, -2, -1])), \n",
    "            brill.Template(brill.Pos([1, 2, 3])), \n",
    "            brill.Template(brill.Pos([-1]), brill.Pos([1])), \n",
    "            brill.Template(brill.Word([-1])), \n",
    "            brill.Template(brill.Word([1])), \n",
    "            brill.Template(brill.Word([-2])), \n",
    "            brill.Template(brill.Word([2])), \n",
    "            brill.Template(brill.Word([-2, -1])), \n",
    "            brill.Template(brill.Word([1, 2])), \n",
    "            brill.Template(brill.Word([-3, -2, -1])), \n",
    "            brill.Template(brill.Word([1, 2, 3])), \n",
    "            brill.Template(brill.Word([-1]), brill.Word([1])), \n",
    "            ] \n",
    "      \n",
    "    # Using BrillTaggerTrainer to train  \n",
    "    trainer = brill_trainer.BrillTaggerTrainer( \n",
    "            initial_tagger, templates, deterministic = True) \n",
    "      \n",
    "    return trainer.train(train_sents, **kwargs) "
   ]
  },
  {
   "cell_type": "code",
   "execution_count": 5,
   "metadata": {},
   "outputs": [
    {
     "ename": "NameError",
     "evalue": "name 'backoff_tagger' is not defined",
     "output_type": "error",
     "traceback": [
      "\u001b[0;31m---------------------------------------------------------------------------\u001b[0m",
      "\u001b[0;31mNameError\u001b[0m                                 Traceback (most recent call last)",
      "\u001b[0;32m<ipython-input-5-e8aceda2923e>\u001b[0m in \u001b[0;36m<module>\u001b[0;34m\u001b[0m\n\u001b[1;32m      5\u001b[0m \u001b[0mtest_data\u001b[0m \u001b[0;34m=\u001b[0m \u001b[0mtreebank\u001b[0m\u001b[0;34m.\u001b[0m\u001b[0mtagged_sents\u001b[0m\u001b[0;34m(\u001b[0m\u001b[0;34m)\u001b[0m\u001b[0;34m[\u001b[0m\u001b[0;36m3000\u001b[0m\u001b[0;34m:\u001b[0m\u001b[0;34m]\u001b[0m\u001b[0;34m\u001b[0m\u001b[0;34m\u001b[0m\u001b[0m\n\u001b[1;32m      6\u001b[0m \u001b[0;34m\u001b[0m\u001b[0m\n\u001b[0;32m----> 7\u001b[0;31m initial_tag = backoff_tagger( \n\u001b[0m\u001b[1;32m      8\u001b[0m         train_data, [UnigramTagger, BigramTagger,  \n\u001b[1;32m      9\u001b[0m                     TrigramTagger], backoff = default_tagger) \n",
      "\u001b[0;31mNameError\u001b[0m: name 'backoff_tagger' is not defined"
     ]
    }
   ],
   "source": [
    "default_tag = DefaultTagger('NN') \n",
    "  \n",
    "# initializing training and testing set     \n",
    "train_data = treebank.tagged_sents()[:3000] \n",
    "test_data = treebank.tagged_sents()[3000:] \n",
    "  \n",
    "initial_tag = backoff_tagger( \n",
    "        train_data, [UnigramTagger, BigramTagger,  \n",
    "                    TrigramTagger], backoff = default_tagger) \n",
    "      \n",
    "a = initial_tag.evaluate(test_data) \n",
    "print (\"Accuracy of Initial Tag : \", a) "
   ]
  }
 ],
 "metadata": {
  "kernelspec": {
   "display_name": "Python 3.8.6 64-bit ('venv')",
   "metadata": {
    "interpreter": {
     "hash": "0f96fa93f86dadf043b33f5059296503b931e0719147be7097d79522bf1a9c9f"
    }
   },
   "name": "python3"
  },
  "language_info": {
   "codemirror_mode": {
    "name": "ipython",
    "version": 3
   },
   "file_extension": ".py",
   "mimetype": "text/x-python",
   "name": "python",
   "nbconvert_exporter": "python",
   "pygments_lexer": "ipython3",
   "version": "3.8.6"
  },
  "orig_nbformat": 2
 },
 "nbformat": 4,
 "nbformat_minor": 2
}